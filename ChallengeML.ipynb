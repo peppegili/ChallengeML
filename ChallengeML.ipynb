{
 "cells": [
  {
   "cell_type": "markdown",
   "metadata": {},
   "source": [
    "# Machine Learning Challenge 2018"
   ]
  },
  {
   "cell_type": "markdown",
   "metadata": {},
   "source": [
    "## Classificazione"
   ]
  },
  {
   "cell_type": "code",
   "execution_count": 2,
   "metadata": {},
   "outputs": [],
   "source": [
    "import torch\n",
    "from torch.utils.data.dataset import Dataset\n",
    "from PIL import Image\n",
    "from os import path\n",
    "import numpy as np\n",
    "from torchvision import transforms\n",
    "\n",
    "\n",
    "# creazione della classe che ci permette di caricare le immagini e le relative etichette\n",
    "class Dataset(Dataset):\n",
    "    \"\"\"Implementa l'oggetto ClassificationDataset che ci permette di caricare\n",
    "    le immagini del dataset images\"\"\"\n",
    "\n",
    "    def __init__(self, base_path, csv_list, transform=None):\n",
    "        \"\"\"Input:\n",
    "            base_path: il path alla cartella contenente le immagini\n",
    "            txt_list: il path al file di testo contenente la lista delle immagini\n",
    "                        con le relative etichette. Ad esempio train.csv o test.csv.\n",
    "            transform: implementeremo il dataset in modo che esso supporti le trasformazioni\"\"\"\n",
    "        # conserviamo il path alla cartella contenente le immagini\n",
    "        self.base_path = base_path\n",
    "        # carichiamo la lista dei file\n",
    "        # sarà una matrice con n righe (numero di immagini) e 2 colonne (path, etichetta)\n",
    "        #self.images = np.loadtxt(csv_list, dtype=str, delimiter=',', usecols=(0,5))\n",
    "        # sarà una matrice con n righe (numero di immagini) e 6 colonne (path, x, y, u, v, etichetta)\n",
    "        self.images = np.loadtxt(csv_list, dtype=str, delimiter=',')\n",
    "        \n",
    "        # permutiamo i dati\n",
    "        np.random.seed(1234) #impostiamo un seed per avere risultati ripetibili\n",
    "        torch.random.manual_seed(1234);\n",
    "        \n",
    "        idx = np.random.permutation(len(self.images))\n",
    "        self.images = self.images[idx]\n",
    "        #print self.images\n",
    "\n",
    "        # conserviamo il riferimento alla trasformazione da applicare\n",
    "        self.transform = transform\n",
    "\n",
    "    def __getitem__(self, index):\n",
    "        # recuperiamo il path dell'immagine di indice index e la relativa etichetta\n",
    "        #f, c = self.images[index]\n",
    "        # recuperiamo il path dell'immagine di indice index, x, y, u, v e la relativa etichetta\n",
    "        f,x,y,u,v,c = self.images[index]\n",
    "\n",
    "        # carichiamo l'immagine utilizzando PIL\n",
    "        im = Image.open(path.join(self.base_path, f))\n",
    "\n",
    "        # se la trasfromazione è definita, applichiamola all'immagine\n",
    "        if self.transform is not None:\n",
    "            im = self.transform(im)\n",
    "\n",
    "        # convertiamo l'etichetta in un intero\n",
    "        label = int(c)\n",
    "\n",
    "        # restituiamo un dizionario contenente immagine etichetta\n",
    "        #return {'image': im, 'label': label}\n",
    "        # restituiamo un dizionario contenente immagine etichetta posa\n",
    "        return {'image': im, 'label': label, 'pose': np.array([x,y,u,v], dtype='float')}\n",
    "\n",
    "    # restituisce il numero di campioni: la lunghezza della lista \"images\"\n",
    "    def __len__(self):\n",
    "        return len(self.images)"
   ]
  },
  {
   "cell_type": "markdown",
   "metadata": {},
   "source": [
    "Costruiamo quindi il nostro training set ed il validation set:"
   ]
  },
  {
   "cell_type": "code",
   "execution_count": 3,
   "metadata": {},
   "outputs": [
    {
     "name": "stdout",
     "output_type": "stream",
     "text": [
      "Immagine di train: torch.Size([3, 144, 256])\n",
      "Etichetta: 14\n",
      "Posa: [16.397331 -4.223821 -0.999388 -0.034932]\n",
      "\n",
      "Immagine di validation: torch.Size([3, 144, 256])\n",
      "Etichetta: 15\n",
      "Posa: [-19.630225   2.979609   0.038931   0.999242]\n"
     ]
    }
   ],
   "source": [
    "# training set\n",
    "train = Dataset('dataset/images','dataset/training_list.csv',transform=transforms.ToTensor())\n",
    "sample = train[0]\n",
    "#l'immagine è 3 x 144 x 256 perché è una immagine a colori\n",
    "print \"Immagine di train:\", sample['image'].shape\n",
    "print \"Etichetta:\", sample['label']\n",
    "print \"Posa:\", sample['pose']\n",
    "\n",
    "print \"\"\n",
    "\n",
    "# validation set\n",
    "valid = Dataset('dataset/images','dataset/validation_list.csv',transform=transforms.ToTensor())\n",
    "sample = valid[0]\n",
    "#l'immagine è 3 x 144 x 256 perché è una immagine a colori\n",
    "print \"Immagine di validation:\", sample['image'].shape\n",
    "print \"Etichetta:\", sample['label']\n",
    "print \"Posa:\", sample['pose']"
   ]
  },
  {
   "cell_type": "markdown",
   "metadata": {},
   "source": [
    "Effettuiamo adesso la normalizzazione, e poi per ridurre i tempi computazionali lavoriamo con immagini più piccole, 32x56."
   ]
  },
  {
   "cell_type": "code",
   "execution_count": 4,
   "metadata": {},
   "outputs": [
    {
     "name": "stdout",
     "output_type": "stream",
     "text": [
      "Medie [0.38766563 0.36472213 0.35473528]\n",
      "Dev.Std. [0.21211976 0.21056999 0.21186012]\n"
     ]
    }
   ],
   "source": [
    "# per il training set\n",
    "\n",
    "#procedura per calcolare la media\n",
    "m = np.zeros(3)\n",
    "\n",
    "for sample in train:\n",
    "    m+=sample['image'].sum(1).sum(1) #accumuliamo la somma dei pixel canale per canale\n",
    "#dividiamo per il numero di immagini moltiplicato per il numero di pixel\n",
    "m=m/(len(train)*144*256)\n",
    "\n",
    "#procedura simile per calcolare la deviazione standard\n",
    "s = np.zeros(3)\n",
    "\n",
    "for sample in train:\n",
    "    s+=((sample['image']-torch.Tensor(m).view(3,1,1))**2).sum(1).sum(1)\n",
    "s=np.sqrt(s/(len(train)*144*256))\n",
    "\n",
    "# media e devST per i 3 canali\n",
    "print \"Medie\",m\n",
    "print \"Dev.Std.\",s"
   ]
  },
  {
   "cell_type": "markdown",
   "metadata": {},
   "source": [
    "Inseriamo la corretta normalizzazione tra le trasformazioni:"
   ]
  },
  {
   "cell_type": "code",
   "execution_count": 5,
   "metadata": {},
   "outputs": [
    {
     "name": "stdout",
     "output_type": "stream",
     "text": [
      "Immagine di train: torch.Size([5376])\n",
      "Etichetta: 14\n",
      "Posa: [16.397331 -4.223821 -0.999388 -0.034932]\n",
      "\n",
      "Immagine di validation: torch.Size([5376])\n",
      "Etichetta: 15\n",
      "Posa: [-19.630225   2.979609   0.038931   0.999242]\n"
     ]
    }
   ],
   "source": [
    "transform = transforms.Compose([transforms.Resize(32),\n",
    "                                transforms.ToTensor(),\n",
    "                                transforms.Normalize(m,s),\n",
    "                               transforms.Lambda(lambda x: x.view(-1))]) #per trasformare l'immagine in un unico vettore\n",
    "train = Dataset('dataset/images','dataset/training_list.csv',transform=transform)\n",
    "print \"Immagine di train:\", train[0]['image'].shape # 3x32x56\n",
    "print \"Etichetta:\", train[0]['label']\n",
    "print \"Posa:\", train[0]['pose']\n",
    "\n",
    "print \"\"\n",
    "\n",
    "valid = Dataset('dataset/images','dataset/validation_list.csv',transform=transform)\n",
    "print \"Immagine di validation:\", valid[0]['image'].shape # 3x32x54\n",
    "print \"Etichetta:\", valid[0]['label']\n",
    "print \"Posa:\", valid[0]['pose']"
   ]
  },
  {
   "cell_type": "markdown",
   "metadata": {},
   "source": [
    "Ogni immagine (sia di train che di validation) quindi è stata normalizzata e trasformata in un vettore. Per effetuare l'ottimizzazione mediante SGD dobbiamo suddividere i campioni in mini-batch. Inoltre è importante fornire i campioni in ordine casuale.\n",
    "PyTorch ci permette di gestire il \"batching\" in automatico e in maniera multithread mediante l'oggetto *DataLoader*. Utilizziamo un batch size di 64 immagini e due thread paralleli per velocizzare il caricamento dei dati:"
   ]
  },
  {
   "cell_type": "code",
   "execution_count": 6,
   "metadata": {},
   "outputs": [],
   "source": [
    "from torch.utils.data import DataLoader\n",
    "\n",
    "train_loader = DataLoader(train, batch_size=64, num_workers=2, shuffle=True)\n",
    "#shuffle permette di accedere ai dati in maniera casuale\n",
    "valid_loader = DataLoader(valid, batch_size=64, num_workers=2)"
   ]
  },
  {
   "cell_type": "markdown",
   "metadata": {},
   "source": [
    "I data loader sono degli oggetti iterabili. Possiamo dunque accedere ai diversi batch in maniera sequenziale all'interno di un ciclo for. Proviamo ad accedere al primo batch e interrompiamo il ciclo:"
   ]
  },
  {
   "cell_type": "code",
   "execution_count": 7,
   "metadata": {},
   "outputs": [
    {
     "name": "stdout",
     "output_type": "stream",
     "text": [
      "torch.Size([64, 5376])\n",
      "torch.Size([64])\n",
      "torch.Size([64, 4])\n"
     ]
    }
   ],
   "source": [
    "for batch in train_loader: #161 batch dove ogni batch contiene 64 immagini\n",
    "    break\n",
    "print batch['image'].shape\n",
    "print batch['label'].shape\n",
    "print batch['pose'].shape\n",
    "# il batch contiene 64 vettori di training (immagini) di dimensione 5376, e altrettante etichette e pose corrispondenti"
   ]
  },
  {
   "cell_type": "markdown",
   "metadata": {},
   "source": [
    "### Allenamento mediante SGD\n",
    "Adesso siamo pronti per effettuare il training mediante Stochastic Gradient Descent. Utilizzeremo due cicli for, uno esterno per iterare lungo le epoche e uno interno per iterare lungo i batch. Il resto della procedura di training resta uguale. Per monitorare il training, all'interno di ogni epoca effettueremo un ciclo di training e un ciclo di test. Con dataset grandi, la procedura di training può essere lunga. Pertanto salveremo una copia del modello ad ogni iterazione."
   ]
  },
  {
   "cell_type": "code",
   "execution_count": 8,
   "metadata": {},
   "outputs": [],
   "source": [
    "from torch import nn\n",
    "class SoftMaxRegressor(nn.Module):\n",
    "    def __init__(self, in_features, out_classes):\n",
    "        \"\"\"Costruisce un regressore softmax.\n",
    "            Input:\n",
    "                in_features: numero di feature in input (es. 4)\n",
    "                out_classes: numero di classi in uscita (es. 3)\"\"\"\n",
    "        super(SoftMaxRegressor, self).__init__() #richiamo il costruttore della superclasse\n",
    "        #questo passo è necessario per abilitare alcuni meccanismi automatici dei moduli di PyTorch\n",
    "        self.linear = nn.Linear(in_features,out_classes) #il regressore softmax restituisce\n",
    "        #distribuzioni di probabilità, quindi il numero di feature di output coincide con il numero di classi\n",
    "        self.softmax = nn.Softmax(dim=1) #dim=1 indica che il softmax verrà calcolato riga per riga\n",
    "    def forward(self,x):\n",
    "        \"\"\"Definisce come processare l'input x\"\"\"\n",
    "        scores = self.linear(x)\n",
    "        #anche in questo caso vogliamo evitare di applicare il softmax in fase di training\n",
    "        if self.training: #se il modulo è in fase di training\n",
    "            #la proprietà \"training\" è messa a disposizione dai meccanismi\n",
    "            #automatici dei moduli di PyTorch\n",
    "            return scores\n",
    "        else: #se siamo in fase di test, calcoliamo le probabilità\n",
    "            return self.softmax(scores)"
   ]
  },
  {
   "cell_type": "code",
   "execution_count": 9,
   "metadata": {},
   "outputs": [
    {
     "name": "stdout",
     "output_type": "stream",
     "text": [
      "[TRAIN] Epoch 1/10. Iteration 160/161. Loss: 2.15. Accuracy: 0.37                             \n",
      "[VALID] Epoch 1/10. Iteration 48/49. Loss: 2.62. Accuracy: 0.40                   \n",
      "[TRAIN] Epoch 2/10. Iteration 160/161. Loss: 1.77. Accuracy: 0.50                                                                    \n",
      "[VALID] Epoch 2/10. Iteration 48/49. Loss: 2.58. Accuracy: 0.44               \n",
      "[TRAIN] Epoch 3/10. Iteration 160/161. Loss: 1.62. Accuracy: 0.55                            \n",
      "[VALID] Epoch 3/10. Iteration 48/49. Loss: 2.55. Accuracy: 0.47                 \n",
      "[TRAIN] Epoch 4/10. Iteration 160/161. Loss: 1.51. Accuracy: 0.58                                 \n",
      "[VALID] Epoch 4/10. Iteration 48/49. Loss: 2.54. Accuracy: 0.48                    \n",
      "[TRAIN] Epoch 5/10. Iteration 160/161. Loss: 1.43. Accuracy: 0.61                                                            \n",
      "[VALID] Epoch 5/10. Iteration 48/49. Loss: 2.53. Accuracy: 0.50                 \n",
      "[TRAIN] Epoch 6/10. Iteration 160/161. Loss: 1.37. Accuracy: 0.63                                                                    \n",
      "[VALID] Epoch 6/10. Iteration 48/49. Loss: 2.51. Accuracy: 0.51         \n",
      "[TRAIN] Epoch 7/10. Iteration 160/161. Loss: 1.31. Accuracy: 0.64                                                           \n",
      "[VALID] Epoch 7/10. Iteration 48/49. Loss: 2.51. Accuracy: 0.52                  \n",
      "[TRAIN] Epoch 8/10. Iteration 160/161. Loss: 1.27. Accuracy: 0.66                                                    \n",
      "[VALID] Epoch 8/10. Iteration 48/49. Loss: 2.49. Accuracy: 0.52               \n",
      "[TRAIN] Epoch 9/10. Iteration 160/161. Loss: 1.23. Accuracy: 0.67                               \n",
      "[VALID] Epoch 9/10. Iteration 48/49. Loss: 2.48. Accuracy: 0.54                    \n",
      "[TRAIN] Epoch 10/10. Iteration 160/161. Loss: 1.19. Accuracy: 0.68                                     \n",
      "[VALID] Epoch 10/10. Iteration 48/49. Loss: 2.48. Accuracy: 0.55         \n"
     ]
    }
   ],
   "source": [
    "from torch.optim import SGD\n",
    "from torch.autograd import Variable\n",
    "from sklearn.metrics import accuracy_score\n",
    "\n",
    "lr = 0.001\n",
    "epochs = 10\n",
    "#5376 feature in ingresso e 16 classi\n",
    "model = SoftMaxRegressor(5376,16)\n",
    "criterion = nn.CrossEntropyLoss()\n",
    "#l'optimizer ci permetterà di effettuare la Stochastic Gradient Descent\n",
    "optimizer = SGD(model.parameters(),lr)\n",
    "training_losses = []\n",
    "training_accuracies = []\n",
    "valid_losses = []\n",
    "valid_accuracies = []\n",
    "for e in range(epochs):\n",
    "    #ciclo di training\n",
    "    model.train()\n",
    "    train_loss = 0\n",
    "    train_acc = 0\n",
    "    for i, batch in enumerate(train_loader):\n",
    "        #trasformiamo i tensori in variabili\n",
    "        x=Variable(batch['image'])\n",
    "        y=Variable(batch['label'])\n",
    "        output = model(x)\n",
    "        l = criterion(output,y)\n",
    "        l.backward()\n",
    "        acc = accuracy_score(y.data,output.max(1)[1].data)\n",
    "        #accumuliamo i valori di training e loss\n",
    "        #moltiplichiamo per x.shape[0], che restituisce la dimensione\n",
    "        #del batch corrente.\n",
    "        train_loss+=l.data[0]*x.shape[0]\n",
    "        train_acc+=acc*x.shape[0]\n",
    "        print \"\\r[TRAIN] Epoch %d/%d. Iteration %d/%d. Loss: %0.2f. Accuracy: %0.2f\" %  \\\n",
    "                (e+1,epochs,i,len(train_loader),l.data[0],acc),\n",
    "        optimizer.step() #sostituisce il codice di aggiornamento manuale dei parametri\n",
    "        optimizer.zero_grad() #sostituisce il codice che si occupava di azzerare i gradienti\n",
    "    train_loss/=len(train)\n",
    "    train_acc/=len(train)\n",
    "    training_losses.append(train_loss)\n",
    "    training_accuracies.append(train_acc)\n",
    "    print \"\\r[TRAIN] Epoch %d/%d. Iteration %d/%d. Loss: %0.2f. Accuracy: %0.2f\" %  \\\n",
    "                (e+1,epochs,i,len(train_loader),train_loss,train_acc)\n",
    "    #ciclo di test\n",
    "    model.eval()\n",
    "    valid_acc=0\n",
    "    valid_loss=0\n",
    "    for i, batch in enumerate(valid_loader):\n",
    "        #trasformiamo i tensori in variabili\n",
    "        x=Variable(batch['image'], requires_grad=False)\n",
    "        y=Variable(batch['label'], requires_grad=False)\n",
    "        output = model(x)\n",
    "        l = criterion(output,y)\n",
    "        valid_acc += accuracy_score(y.data,output.max(1)[1].data)*x.shape[0]\n",
    "        valid_loss += l.data[0]*x.shape[0]\n",
    "        print \"\\r[VALID] Epoch %d/%d. Iteration %d/%d. Loss: %0.2f. Accuracy: %0.2f\" %  \\\n",
    "                (e+1,epochs,i,len(valid_loader),l.data[0],acc),\n",
    "    #salviamo il modello\n",
    "    torch.save(model.state_dict(),'model-%d.pth'%(e+1,))\n",
    "    valid_loss/=len(valid)\n",
    "    valid_acc/=len(valid)\n",
    "    valid_losses.append(valid_loss)\n",
    "    valid_accuracies.append(valid_acc)\n",
    "    print \"\\r[VALID] Epoch %d/%d. Iteration %d/%d. Loss: %0.2f. Accuracy: %0.2f\" %  \\\n",
    "                (e+1,epochs,i,len(valid_loader),valid_loss,valid_acc)"
   ]
  },
  {
   "cell_type": "markdown",
   "metadata": {},
   "source": [
    "Plottiamo accuracy e loss di training e validation"
   ]
  },
  {
   "cell_type": "code",
   "execution_count": 12,
   "metadata": {},
   "outputs": [
    {
     "data": {
      "image/png": "[encoded data removed]",
      "text/plain": [
       "<matplotlib.figure.Figure at 0x1a1ac23890>"
      ]
     },
     "metadata": {},
     "output_type": "display_data"
    }
   ],
   "source": [
    "from matplotlib import pyplot as plt\n",
    "\n",
    "plt.figure(figsize=(18,6))\n",
    "plt.subplot(121)\n",
    "plt.plot(training_losses)\n",
    "plt.plot(valid_losses)\n",
    "plt.legend(['Training Loss','Validation Losses'])\n",
    "plt.grid()\n",
    "plt.subplot(122)\n",
    "plt.plot(training_accuracies)\n",
    "plt.plot(valid_accuracies)\n",
    "plt.legend(['Training Accuracy','Validation Accuracy'])\n",
    "plt.grid()\n",
    "plt.show()"
   ]
  },
  {
   "cell_type": "code",
   "execution_count": null,
   "metadata": {},
   "outputs": [],
   "source": []
  }
 ],
 "metadata": {
  "kernelspec": {
   "display_name": "Python 2",
   "language": "python",
   "name": "python2"
  },
  "language_info": {
   "codemirror_mode": {
    "name": "ipython",
    "version": 2
   },
   "file_extension": ".py",
   "mimetype": "text/x-python",
   "name": "python",
   "nbconvert_exporter": "python",
   "pygments_lexer": "ipython2",
   "version": "2.7.14"
  }
 },
 "nbformat": 4,
 "nbformat_minor": 2
}
